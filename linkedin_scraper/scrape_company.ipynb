{
 "cells": [
  {
   "cell_type": "code",
   "execution_count": 6,
   "id": "97259136",
   "metadata": {},
   "outputs": [],
   "source": [
    "import pandas as pd\n",
    "import numpy as np\n",
    "import math\n",
    "import json"
   ]
  },
  {
   "cell_type": "code",
   "execution_count": 7,
   "id": "7f915a80",
   "metadata": {},
   "outputs": [],
   "source": [
    "from linkedin_api import Linkedin\n",
    "\n",
    "# Authenticate using any Linkedin account credentials\n",
    "api = Linkedin('email', 'password')"
   ]
  },
  {
   "cell_type": "code",
   "execution_count": 11,
   "id": "80f09a0c",
   "metadata": {},
   "outputs": [
    {
     "data": {
      "text/plain": [
       "13056"
      ]
     },
     "execution_count": 11,
     "metadata": {},
     "output_type": "execute_result"
    }
   ],
   "source": [
    "df = pd.read_csv('company.csv')\n",
    "company = df.company.to_list()\n",
    "len(company)"
   ]
  },
  {
   "cell_type": "code",
   "execution_count": null,
   "id": "bf2c3845",
   "metadata": {},
   "outputs": [],
   "source": [
    "company_info = {}\n",
    "# scrape from company [9001:]\n",
    "for c in company[9001:9050]:\n",
    "    try:\n",
    "        info = api.get_company(c)\n",
    "        company_info[c] = info\n",
    "    except KeyError:\n",
    "        print(f\"KeyError occurred for company: {c}\")\n",
    "        continue"
   ]
  },
  {
   "cell_type": "code",
   "execution_count": null,
   "id": "92b92614",
   "metadata": {},
   "outputs": [],
   "source": [
    "# create the file for first batch\n",
    "# rename the json file to your name: eg: yixin.json\n",
    "# then upload to github, i'll merge later\n",
    "with open('company_profiles.json', 'w') as f:\n",
    "    json.dump(company_info, f)"
   ]
  },
  {
   "cell_type": "code",
   "execution_count": null,
   "id": "369d208e",
   "metadata": {},
   "outputs": [],
   "source": [
    "# Open the existing JSON file and load the data into a dictionary\n",
    "with open('company_profiles.json', 'r') as f:\n",
    "    existing_data = json.load(f)\n",
    "\n",
    "# Update the dictionary with the new information from the `profile` dictionary\n",
    "existing_data.update(company_info)\n",
    "\n",
    "# Write the updated dictionary back to the JSON file\n",
    "with open('company_profiles.json', 'w') as f:\n",
    "    json.dump(existing_data, f)"
   ]
  },
  {
   "cell_type": "code",
   "execution_count": null,
   "id": "c1a387f3",
   "metadata": {},
   "outputs": [],
   "source": [
    "len(existing_data)"
   ]
  }
 ],
 "metadata": {
  "kernelspec": {
   "display_name": "Python 3 (ipykernel)",
   "language": "python",
   "name": "python3"
  },
  "language_info": {
   "codemirror_mode": {
    "name": "ipython",
    "version": 3
   },
   "file_extension": ".py",
   "mimetype": "text/x-python",
   "name": "python",
   "nbconvert_exporter": "python",
   "pygments_lexer": "ipython3",
   "version": "3.10.12"
  }
 },
 "nbformat": 4,
 "nbformat_minor": 5
}
