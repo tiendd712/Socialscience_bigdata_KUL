{
  "cells": [
    {
      "cell_type": "markdown",
      "metadata": {
        "colab_type": "text",
        "id": "view-in-github"
      },
      "source": [
        "<a href=\"https://colab.research.google.com/github/11bender/alumni-scraping/blob/main/alumni_scraping.ipynb\" target=\"_parent\"><img src=\"https://colab.research.google.com/assets/colab-badge.svg\" alt=\"Open In Colab\"/></a>"
      ]
    },
    {
      "attachments": {},
      "cell_type": "markdown",
      "metadata": {
        "id": "e4o5x1rcDZTN"
      },
      "source": [
        "# **Linkedin scraper**"
      ]
    },
    {
      "attachments": {},
      "cell_type": "markdown",
      "metadata": {},
      "source": [
        "## Load libraries"
      ]
    },
    {
      "cell_type": "code",
      "execution_count": null,
      "metadata": {
        "id": "UQC8uAXpM1UO"
      },
      "outputs": [],
      "source": [
        "import os, random, sys, time \n",
        "from selenium import webdriver\n",
        "from bs4 import BeautifulSoup\n",
        "import pandas as pd\n",
        "import numpy as np "
      ]
    },
    {
      "cell_type": "code",
      "execution_count": null,
      "metadata": {
        "id": "0wNcDYdXM1UQ"
      },
      "outputs": [],
      "source": [
        "browser = webdriver.Chrome('/driver/chromedriver')"
      ]
    },
    {
      "cell_type": "markdown",
      "metadata": {},
      "source": [
        "Log in to your account at this step"
      ]
    },
    {
      "cell_type": "code",
      "execution_count": null,
      "metadata": {
        "id": "j0vzjIqHM1UQ"
      },
      "outputs": [],
      "source": [
        "browser.get(\"https://www.linkedin.com/login/\")"
      ]
    },
    {
      "attachments": {},
      "cell_type": "markdown",
      "metadata": {
        "id": "TceiqSbHMP2x"
      },
      "source": [
        "Get the school page\n"
      ]
    },
    {
      "cell_type": "code",
      "execution_count": null,
      "metadata": {
        "id": "-REs8SYWcExg"
      },
      "outputs": [],
      "source": [
        "browser.get(\"https://www.linkedin.com/school/ku_leuven/people/?educationEndYear=2020&educationStartYear=2012&keywords=statistics\")"
      ]
    },
    {
      "attachments": {},
      "cell_type": "markdown",
      "metadata": {
        "id": "j4DWZ5JyMUG1"
      },
      "source": [
        "Scroll down to get all alumni"
      ]
    },
    {
      "cell_type": "code",
      "execution_count": null,
      "metadata": {
        "id": "OOpuRUM3szPi"
      },
      "outputs": [],
      "source": [
        "rep = 100 # determine the rep enough to scroll all the page\n",
        "last_height = browser.execute_script(\"return document.body.scrollHeight\")\n",
        "\n",
        "for i in range(rep):\n",
        "  browser.execute_script('window.scrollTo(0, document.body.scrollHeight);')\n",
        "  time.sleep(5)\n",
        "  new_height = browser.execute_script(\"return document.body.scrollHeight\")\n",
        "  if new_height == last_height:\n",
        "    break\n",
        "  new_height = last_height"
      ]
    },
    {
      "attachments": {},
      "cell_type": "markdown",
      "metadata": {
        "id": "37LxGbQGMlba"
      },
      "source": [
        "Get a list of profile url"
      ]
    },
    {
      "cell_type": "code",
      "execution_count": null,
      "metadata": {
        "id": "gAVjaPVlqU98"
      },
      "outputs": [],
      "source": [
        "src = browser.page_source\n",
        "soup = BeautifulSoup(src, 'lxml')\n",
        "pav = soup.find('div', {'class' : 'scaffold-finite-scroll__content'})\n",
        "all_links = pav.find_all('a', {'class' : \"app-aware-link\"})\n",
        "profiles = [link.get(\"href\") for link in all_links]\n",
        "urls = [profile.split(\"?\")[0] for profile in profiles]\n",
        "urls = list(set(urls))\n",
        "len(urls)"
      ]
    },
    {
      "cell_type": "code",
      "execution_count": null,
      "metadata": {},
      "outputs": [],
      "source": [
        "stat_url = pd.DataFrame(urls, columns=['url'])\n",
        "stat_url.to_csv('stat_url.csv')"
      ]
    },
    {
      "attachments": {},
      "cell_type": "markdown",
      "metadata": {
        "id": "6d1nNSzYHNc0"
      },
      "source": [
        "Get data from each profile"
      ]
    },
    {
      "cell_type": "code",
      "execution_count": null,
      "metadata": {},
      "outputs": [],
      "source": [
        "names = []\n",
        "positions = []\n",
        "companies = []\n",
        "work_locs = []\n",
        "work_times = []\n",
        "colleges = []\n",
        "degrees = []\n",
        "college_times  = []\n",
        "urls = []\n",
        "\n",
        "for url in urls:\n",
        "  browser.get(url)\n",
        "  time.sleep(3)\n",
        "  src = browser.page_source\n",
        "  soup = BeautifulSoup(src, 'html.parser')\n",
        "  \n",
        "  #scraping name\n",
        "  #name = soup.find('title').text.split(\"(23)\")[1].split(\"| LinkedIn\")[0].strip()\n",
        "  name = soup.find('title').get_text().split(\"|\")[0].strip()\n",
        "  names.append(name)\n",
        "  print(name)\n",
        "  \n",
        "  #scraping from Experience\n",
        "  exp_url = os.path.join(url, \"details/experience\")\n",
        "  print(exp_url)\n",
        "  browser.get(exp_url)\n",
        "  time.sleep(8)\n",
        "  src = browser.page_source\n",
        "  exp_soup = BeautifulSoup(src, 'html.parser')\n",
        "  # company\n",
        "  company_info = exp_soup.find_all('span', {\"class\": \"t-14 t-normal\"})\n",
        "  company = [info.find(\"span\", {\"aria-hidden\": \"true\"}).get_text() for info in company_info]\n",
        "  companies.append(company)\n",
        "  # position\n",
        "  pos_info = exp_soup.find_all('span', {\"class\": \"mr1 t-bold\"})\n",
        "  position = [info.find(\"span\", {\"aria-hidden\": \"true\"}).get_text() for info in pos_info]\n",
        "  positions.append(position)\n",
        "  # location and time\n",
        "  loc_time_info = exp_soup.find_all('span', {\"class\": \"t-14 t-normal t-black--light\"})\n",
        "  work_time = [loc_time.find(\"span\").get_text() for loc_time in loc_time_info if ' · ' in loc_time.find(\"span\").get_text()]\n",
        "  loc = list(set([loc_time.find(\"span\").get_text() for loc_time in loc_time_info if ' · ' not in loc_time.find(\"span\").get_text()]))\n",
        "  work_locs.append(loc)\n",
        "  work_times.append(work_time)\n",
        "\n",
        "  #scraping from Education\n",
        "  edu_url = os.path.join(url, \"details/education\")\n",
        "  browser.get(edu_url)\n",
        "  time.sleep(8)\n",
        "  src = browser.page_source\n",
        "  edu_soup = BeautifulSoup(src, 'html.parser')\n",
        "  # college\n",
        "  college_info = edu_soup.find_all('span', {'class':\"mr1 hoverable-link-text t-bold\"})\n",
        "  college = [info.find(\"span\", {\"aria-hidden\": \"true\"}).get_text() for info in college_info]\n",
        "  colleges.append(college)\n",
        "  # degree\n",
        "  degree_info = edu_soup.find_all('span', {'class':\"t-14 t-normal\"})\n",
        "  degree = [info.find(\"span\", {\"aria-hidden\": \"true\"}).get_text() for info in degree_info]\n",
        "  degrees.append(degree)\n",
        "  # college-time\n",
        "  college_time_info = edu_soup.find_all('span', {'class':\"t-14 t-normal t-black--light\"})\n",
        "  college_time = [info.find(\"span\", {\"aria-hidden\": \"true\"}).get_text() for info in college_time_info]\n",
        "  college_times.append(college_time)"
      ]
    },
    {
      "cell_type": "code",
      "execution_count": null,
      "metadata": {},
      "outputs": [],
      "source": [
        "data = pd.DataFrame(list(zip(names, urls, companies, positions, work_locs, work_times, colleges, degrees, college_times)), \n",
        "               columns =[\"names\", \"url\", \"companies\", \"positions\", \"work_locs\", \"work_times\", \"colleges\", \"degrees\", \"college_times\"]) "
      ]
    },
    {
      "cell_type": "code",
      "execution_count": null,
      "metadata": {},
      "outputs": [],
      "source": [
        "data.to_csv('linkedin.csv', index=False)"
      ]
    },
    {
      "cell_type": "code",
      "execution_count": null,
      "metadata": {},
      "outputs": [],
      "source": []
    },
    {
      "cell_type": "code",
      "execution_count": null,
      "metadata": {},
      "outputs": [],
      "source": []
    }
  ],
  "metadata": {
    "colab": {
      "collapsed_sections": [],
      "include_colab_link": true,
      "name": "alumni_scraping.ipynb",
      "provenance": []
    },
    "kernelspec": {
      "display_name": "Python 3",
      "language": "python",
      "name": "python3"
    },
    "language_info": {
      "codemirror_mode": {
        "name": "ipython",
        "version": 3
      },
      "file_extension": ".py",
      "mimetype": "text/x-python",
      "name": "python",
      "nbconvert_exporter": "python",
      "pygments_lexer": "ipython3",
      "version": "3.7.4"
    }
  },
  "nbformat": 4,
  "nbformat_minor": 0
}
