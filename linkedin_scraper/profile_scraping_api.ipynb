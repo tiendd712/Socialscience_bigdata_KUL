{
 "cells": [
  {
   "cell_type": "code",
   "execution_count": null,
   "metadata": {},
   "outputs": [],
   "source": [
    "import pandas as pd\n",
    "import json"
   ]
  },
  {
   "cell_type": "code",
   "execution_count": null,
   "metadata": {},
   "outputs": [],
   "source": [
    "from linkedin_api import Linkedin\n",
    "\n",
    "# authenticate using any Linkedin account credentials\n",
    "api = Linkedin('yixinmei6565@gmail.com', '345678901')"
   ]
  },
  {
   "cell_type": "code",
   "execution_count": null,
   "metadata": {},
   "outputs": [],
   "source": [
    "df = pd.read_csv('all_uni_url.csv')\n",
    "all_id = df.id.to_list()\n",
    "len(all_id)"
   ]
  },
  {
   "attachments": {},
   "cell_type": "markdown",
   "metadata": {},
   "source": [
    "If you meet JSONDecodeError, delete the cookie in `~/.linkedin_api/cookies` then login to the account on the browser \n",
    "and try again"
   ]
  },
  {
   "cell_type": "code",
   "execution_count": null,
   "metadata": {},
   "outputs": [],
   "source": [
    "profiles = {}\n",
    "\n",
    "# yixin: scrape from all_id[4000:6000]\n",
    "# tien: scrape from all_id[6000:]\n",
    "\n",
    "for user in all_id[]:\n",
    "    profile_info = api.get_profile(user)\n",
    "    profile_info['network'] = api.get_profile_network_info(user)\n",
    "    profiles[user] = profile_info\n"
   ]
  },
  {
   "cell_type": "code",
   "execution_count": null,
   "metadata": {},
   "outputs": [],
   "source": [
    "# create the file for first batch\n",
    "# rename the json file to your name: eg: yixin.json\n",
    "# then upload to github, i'll merge later\n",
    "with open('yixin.json', 'w') as f:\n",
    "    json.dump(profiles, f)"
   ]
  },
  {
   "cell_type": "code",
   "execution_count": null,
   "metadata": {},
   "outputs": [],
   "source": [
    "# if you scrape in small batches and the json file already exists\n",
    "with open('yixin.json') as f:\n",
    "    existing_data = json.load(f)\n",
    "\n",
    "# update the json with what you just scrape\n",
    "existing_data.update(profiles)\n",
    "\n",
    "# write the updated data to the existing json file\n",
    "with open('yixin.json', 'w') as f:\n",
    "    json.dump(existing_data, f)"
   ]
  }
 ],
 "metadata": {
  "kernelspec": {
   "display_name": "base",
   "language": "python",
   "name": "python3"
  },
  "language_info": {
   "codemirror_mode": {
    "name": "ipython",
    "version": 3
   },
   "file_extension": ".py",
   "mimetype": "text/x-python",
   "name": "python",
   "nbconvert_exporter": "python",
   "pygments_lexer": "ipython3",
   "version": "3.7.4"
  },
  "orig_nbformat": 4
 },
 "nbformat": 4,
 "nbformat_minor": 2
}
