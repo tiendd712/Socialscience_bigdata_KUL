{
 "cells": [
  {
   "cell_type": "code",
   "execution_count": 1,
   "id": "683ad2f9",
   "metadata": {},
   "outputs": [],
   "source": [
    "import os\n",
    "import csv\n",
    "import pandas as pd\n",
    "import json"
   ]
  },
  {
   "cell_type": "code",
   "execution_count": 2,
   "id": "3a0044ec",
   "metadata": {},
   "outputs": [],
   "source": [
    "def is_valid_json(s):\n",
    "    try:\n",
    "        json.loads(s)\n",
    "        return True\n",
    "    except json.JSONDecodeError:\n",
    "        return False\n"
   ]
  },
  {
   "cell_type": "code",
   "execution_count": 3,
   "id": "858b1f7a",
   "metadata": {},
   "outputs": [],
   "source": [
    "path = \"D:/stream_data/\""
   ]
  },
  {
   "cell_type": "code",
   "execution_count": 4,
   "id": "1c9b7db7",
   "metadata": {},
   "outputs": [],
   "source": [
    "all_contents = []\n",
    "\n",
    "for sub in os.listdir(path):\n",
    "    if sub != \".DS_Store\":\n",
    "        for text_file in os.listdir(os.path.join(path, sub)):\n",
    "            if text_file != \"._SUCCESS.crc\" and text_file != \"_SUCCESS\":\n",
    "                text_dir = os.path.join(path, sub, text_file)\n",
    "                if not text_dir.endswith(\"crc\") and not text_dir.endswith(\"json\") and not text_dir.endswith(\"csv\"):\n",
    "                    with open(text_dir, \"r\") as file:\n",
    "                        contents = file.read()\n",
    "                        all_contents.append(contents)"
   ]
  },
  {
   "cell_type": "code",
   "execution_count": 5,
   "id": "de1f2a12",
   "metadata": {},
   "outputs": [],
   "source": [
    "# Create a list of dicts\n",
    "dicts = [json.loads(s) for s in all_contents if is_valid_json(s)]\n",
    "\n",
    "# Create dataframe\n",
    "df = pd.DataFrame(dicts)\n",
    "df.drop_duplicates(inplace=True)\n",
    "df.reset_index(drop=True, inplace=True)\n",
    "\n",
    "# Save to csv\n",
    "df.to_csv(\"reviews.csv\")"
   ]
  },
  {
   "cell_type": "code",
   "execution_count": 13,
   "id": "1d684663",
   "metadata": {},
   "outputs": [
    {
     "data": {
      "text/plain": [
       "[]"
      ]
     },
     "execution_count": 13,
     "metadata": {},
     "output_type": "execute_result"
    }
   ],
   "source": [
    "text_file_path"
   ]
  },
  {
   "cell_type": "code",
   "execution_count": null,
   "id": "fd0b07fd",
   "metadata": {},
   "outputs": [],
   "source": []
  }
 ],
 "metadata": {
  "kernelspec": {
   "display_name": "Python 3 (ipykernel)",
   "language": "python",
   "name": "python3"
  },
  "language_info": {
   "codemirror_mode": {
    "name": "ipython",
    "version": 3
   },
   "file_extension": ".py",
   "mimetype": "text/x-python",
   "name": "python",
   "nbconvert_exporter": "python",
   "pygments_lexer": "ipython3",
   "version": "3.9.7"
  }
 },
 "nbformat": 4,
 "nbformat_minor": 5
}
